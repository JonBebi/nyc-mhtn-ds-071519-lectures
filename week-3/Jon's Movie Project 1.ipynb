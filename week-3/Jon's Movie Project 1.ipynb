{
 "cells": [
  {
   "cell_type": "code",
   "execution_count": 1,
   "metadata": {},
   "outputs": [
    {
     "data": {
      "text/plain": [
       "'flatiron.cahk7e1qbai3.us-east-2.rds.amazonaws.com'"
      ]
     },
     "execution_count": 1,
     "metadata": {},
     "output_type": "execute_result"
    }
   ],
   "source": [
    "import mysql.connector\n",
    "from mysql.connector import errorcode\n",
    "import json\n",
    "import requests\n",
    "import time\n",
    "import pandas as pd\n",
    "import project1_config\n",
    "project1_config.host"
   ]
  },
  {
   "cell_type": "code",
   "execution_count": 20,
   "metadata": {},
   "outputs": [],
   "source": [
    "title = 'harry potter and the deathly hallows'\n",
    "url_params = {'term': title.replace(' ', '+')}\n",
    "api_key = '394cff72'"
   ]
  },
  {
   "cell_type": "code",
   "execution_count": 21,
   "metadata": {},
   "outputs": [],
   "source": [
    "# write a function to make a call to the API\n",
    "def omdb_call(url_params, api_key):\n",
    "    url = f'http://www.omdbapi.com/?apikey={api_key}&t={title}'\n",
    "    response = requests.get(url, params=url_params)\n",
    "    \n",
    "    data = response.json()\n",
    "    return data"
   ]
  },
  {
   "cell_type": "code",
   "execution_count": 22,
   "metadata": {},
   "outputs": [],
   "source": [
    "test = omdb_call(url_params, api_key)"
   ]
  },
  {
   "cell_type": "code",
   "execution_count": 23,
   "metadata": {},
   "outputs": [
    {
     "data": {
      "text/plain": [
       "{'Title': 'Harry Potter and the Deathly Hallows: Part 2',\n",
       " 'Year': '2011',\n",
       " 'Rated': 'PG-13',\n",
       " 'Released': '15 Jul 2011',\n",
       " 'Runtime': '130 min',\n",
       " 'Genre': 'Adventure, Drama, Fantasy, Mystery',\n",
       " 'Director': 'David Yates',\n",
       " 'Writer': 'Steve Kloves (screenplay), J.K. Rowling (novel)',\n",
       " 'Actors': 'Ralph Fiennes, Michael Gambon, Alan Rickman, Daniel Radcliffe',\n",
       " 'Plot': \"Harry, Ron, and Hermione search for Voldemort's remaining Horcruxes in their effort to destroy the Dark Lord as the final battle rages on at Hogwarts.\",\n",
       " 'Language': 'English',\n",
       " 'Country': 'USA, UK',\n",
       " 'Awards': 'Nominated for 3 Oscars. Another 45 wins & 91 nominations.',\n",
       " 'Poster': 'https://m.media-amazon.com/images/M/MV5BMjIyZGU4YzUtNDkzYi00ZDRhLTljYzctYTMxMDQ4M2E0Y2YxXkEyXkFqcGdeQXVyNTIzOTk5ODM@._V1_SX300.jpg',\n",
       " 'Ratings': [{'Source': 'Internet Movie Database', 'Value': '8.1/10'},\n",
       "  {'Source': 'Rotten Tomatoes', 'Value': '96%'},\n",
       "  {'Source': 'Metacritic', 'Value': '87/100'}],\n",
       " 'Metascore': '87',\n",
       " 'imdbRating': '8.1',\n",
       " 'imdbVotes': '696,862',\n",
       " 'imdbID': 'tt1201607',\n",
       " 'Type': 'movie',\n",
       " 'DVD': '11 Nov 2011',\n",
       " 'BoxOffice': '$381,000,185',\n",
       " 'Production': 'Warner Bros. Pictures',\n",
       " 'Website': 'http://www.HarryPotter.com/',\n",
       " 'Response': 'True'}"
      ]
     },
     "execution_count": 23,
     "metadata": {},
     "output_type": "execute_result"
    }
   ],
   "source": [
    "test"
   ]
  },
  {
   "cell_type": "code",
   "execution_count": null,
   "metadata": {},
   "outputs": [],
   "source": [
    "# write a function to parse the API response so that you can easily insert the data in to the DB\n",
    "def all_results(url_params, api_key):\n",
    "    url = 'https://api.yelp.com/v3/businesses/search'\n",
    "    headers = {'Authorization': 'Bearer {}'.format(api_key)}\n",
    "    response = requests.get(url, headers=headers, params=url_params)\n",
    "    num = response.json()['total']\n",
    "    print('{} total matches found.'.format(num))\n",
    "    cur = 0\n",
    "    results = []\n",
    "    while cur < num and cur < 1000:\n",
    "        url_params['offset'] = cur\n",
    "        results.extend(yelp_call(url_params, api_key))\n",
    "        # Optional, add to DB instead\n",
    "\n",
    "        # results_50 = yelp_call(url_params, api_key)\n",
    "        # for business in results_50:\n",
    "        # dynamic_data_entry(business)\n",
    "        # (use dynamic insert function here)\n",
    "        time.sleep(1) # wait a second\n",
    "        cur += 50\n",
    "    return results"
   ]
  }
 ],
 "metadata": {
  "kernelspec": {
   "display_name": "Python 3",
   "language": "python",
   "name": "python3"
  },
  "language_info": {
   "codemirror_mode": {
    "name": "ipython",
    "version": 3
   },
   "file_extension": ".py",
   "mimetype": "text/x-python",
   "name": "python",
   "nbconvert_exporter": "python",
   "pygments_lexer": "ipython3",
   "version": "3.7.3"
  }
 },
 "nbformat": 4,
 "nbformat_minor": 2
}
