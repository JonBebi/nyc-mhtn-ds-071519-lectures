{
 "cells": [
  {
   "cell_type": "markdown",
   "metadata": {},
   "source": [
    "### Your Turn:\n",
    "\n",
    "Now you are going to work with a partner to create a class. Your class will construct a descriptive statistics calculator using our functions from earlier.  \n",
    "\n",
    "Your class should have the following attributes:\n",
    "\n",
    "- .data - where you will hold your data\n",
    "- .length - that tells you the length of your data list\n",
    "- .mean\n",
    "- .median\n",
    "- .variance\n",
    "- .standev\n",
    "\n",
    "Your class should have the following method:\n",
    "\n",
    "- .add_data() - which can take in a value or a list of values and extend the .data attribute\n",
    "- .remove_data() which should allow you to remove a piece of data based on its position\n"
   ]
  },
  {
   "cell_type": "code",
   "execution_count": null,
   "metadata": {},
   "outputs": [],
   "source": [
    "import math\n",
    "\n",
    "class Calc:\n",
    "    def __init__(self, data):\n",
    "        self.data = data\n",
    "        self.length = len(data)\n",
    "        self.__create_stats()\n",
    "        \n",
    "    def __create_stats(self):\n",
    "        self.mean = self.__calc_mean()\n",
    "        self.median = self.__calc_median()\n",
    "        self.variance = self.__calc_variance()\n",
    "        self.standev = self.__calc_standev()\n",
    "    \n",
    "    def __calc_mean(self, d = None):\n",
    "        if d == None:\n",
    "            return  sum(self.data)/len(self.data)\n",
    "        else:\n",
    "            return sum(d)/len(d)\n",
    "    \n",
    "    def __calc_median(self):\n",
    "        dataLen = int(len(self.data))\n",
    "        \n",
    "        #if length is odd, take middle value, by dividing the length by 2, then rounding up\n",
    "        if (dataLen % 2) == 1:\n",
    "            return self.data[round(dataLen/2)]\n",
    "        \n",
    "        #if the length is even, take the mean of the middle two values, which have indices length/2 and (length/2 + 1)\n",
    "        elif (dataLen % 2) == 0:\n",
    "            #remember that indices are indexed at 0\n",
    "            return self.__calc_mean([self.data[int(dataLen/2-1)], self.data[int(dataLen/2)]]) \n",
    "    \n",
    "    def __calc_variance(self):\n",
    "        # multiply 1/(length of data) by the sum of (data point - mean)^2, for each data point\n",
    "        sum = 0\n",
    "        for x in self.data:\n",
    "            sum += (x - self.mean)**2\n",
    "        return (1/(len(self.data)-1))*sum\n",
    "    \n",
    "    def __calc_standev(self):\n",
    "        return math.sqrt(self.__calc_variance())\n",
    "    \n",
    "    def add_data(self, new_data):\n",
    "        self.data.extend(new_data) # adds new data to end of list\n",
    "        self.__create_stats() # updates all old stats to include new data\n",
    "        return self.data\n",
    "        \n",
    "    def remove_data(self, position): # give position to remove data\n",
    "        self.data.pop(position)\n",
    "        return self.data"
   ]
  }
 ],
 "metadata": {
  "kernelspec": {
   "display_name": "Python 3",
   "language": "python",
   "name": "python3"
  },
  "language_info": {
   "codemirror_mode": {
    "name": "ipython",
    "version": 3
   },
   "file_extension": ".py",
   "mimetype": "text/x-python",
   "name": "python",
   "nbconvert_exporter": "python",
   "pygments_lexer": "ipython3",
   "version": "3.7.3"
  }
 },
 "nbformat": 4,
 "nbformat_minor": 2
}
